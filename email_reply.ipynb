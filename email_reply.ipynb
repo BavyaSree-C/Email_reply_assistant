{
 "cells": [
  {
   "cell_type": "code",
   "execution_count": 1,
   "id": "607f69c9",
   "metadata": {},
   "outputs": [],
   "source": [
    "import os\n",
    "import base64\n",
    "from email.mime.text import MIMEText\n",
    "from dotenv import load_dotenv\n",
    "from openai import OpenAI\n",
    "from langchain_community.tools.gmail.utils import (\n",
    "    get_gmail_credentials,\n",
    ")\n",
    "from googleapiclient.discovery import build"
   ]
  },
  {
   "cell_type": "code",
   "execution_count": null,
   "id": "06efba48",
   "metadata": {},
   "outputs": [],
   "source": [
    "# Directly assign your OpenRouter API key\n",
    "api_key = \"enter api key or follow readme\"\n",
    "\n",
    "# Optional check\n",
    "if not api_key:\n",
    "    raise ValueError(\"OpenRouter API key is not provided\")\n",
    "\n",
    "# Initialize OpenRouter client\n",
    "client = OpenAI(\n",
    "    base_url=\"https://openrouter.ai/api/v1\",\n",
    "    api_key=api_key,\n",
    ")"
   ]
  },
  {
   "cell_type": "code",
   "execution_count": 3,
   "id": "3b668053",
   "metadata": {},
   "outputs": [],
   "source": [
    "# Gmail Auth\n",
    "credentials = get_gmail_credentials(\n",
    "    token_file=\"token.json\",\n",
    "    scopes=[\"https://mail.google.com/\"],\n",
    "    client_secrets_file=\"credentials.json\",\n",
    ")\n",
    "service = build(\"gmail\", \"v1\", credentials=credentials)"
   ]
  },
  {
   "cell_type": "code",
   "execution_count": 6,
   "id": "28be70c4",
   "metadata": {},
   "outputs": [],
   "source": [
    "# Fetch recent emails\n",
    "def fetch_recent_emails(max_results=10):\n",
    "    results = service.users().messages().list(userId='me', labelIds=['INBOX'], maxResults=max_results).execute()\n",
    "    messages = results.get('messages', [])\n",
    "    emails = []\n",
    "\n",
    "    for msg in messages:\n",
    "        msg_data = service.users().messages().get(userId='me', id=msg['id']).execute()\n",
    "        headers = msg_data['payload'].get('headers', [])\n",
    "        subject = next((h['value'] for h in headers if h['name'] == 'Subject'), \"(No Subject)\")\n",
    "        sender = next((h['value'] for h in headers if h['name'] == 'From'), \"(Unknown Sender)\")\n",
    "        snippet = msg_data.get('snippet', '')\n",
    "        emails.append({\n",
    "            \"id\": msg['id'],\n",
    "            \"subject\": subject,\n",
    "            \"sender\": sender,\n",
    "            \"snippet\": snippet,\n",
    "        })\n",
    "    return emails"
   ]
  },
  {
   "cell_type": "code",
   "execution_count": 7,
   "id": "3f2d3a43",
   "metadata": {},
   "outputs": [],
   "source": [
    "# Classify email into categories\n",
    "def classify_email(email):\n",
    "    prompt = f\"\"\"\n",
    "Classify the following email into one of these categories:\n",
    "- Personal\n",
    "- Job Offer\n",
    "- Job Application Updates\n",
    "- Newsletter\n",
    "- Finance\n",
    "- Promotion\n",
    "- Other\n",
    "\n",
    "Email:\n",
    "From: {email['sender']}\n",
    "Subject: {email['subject']}\n",
    "Snippet: {email['snippet']}\n",
    "\n",
    "Respond with only the category name.\n",
    "\"\"\"\n",
    "    response = client.chat.completions.create(\n",
    "        model=\"openai/gpt-3.5-turbo\",\n",
    "        messages=[\n",
    "            {\"role\": \"system\", \"content\": \"You are an email classifier.\"},\n",
    "            {\"role\": \"user\", \"content\": prompt}\n",
    "        ],\n",
    "        max_tokens=10,\n",
    "    )\n",
    "    return response.choices[0].message.content.strip()"
   ]
  },
  {
   "cell_type": "code",
   "execution_count": 8,
   "id": "4dc3dfbf",
   "metadata": {},
   "outputs": [],
   "source": [
    "# Generate smart replies based on classification\n",
    "def generate_reply(email, category):\n",
    "    prompt = f\"\"\"\n",
    "You are a smart and context-aware email assistant.\n",
    "\n",
    "Generate a short, polite, and contextually appropriate reply for the following email.\n",
    "Category: {category}\n",
    "\n",
    "From: {email['sender']}\n",
    "Subject: {email['subject']}\n",
    "Content Snippet: {email['snippet']}\n",
    "\n",
    "Instructions:\n",
    "- If it's a Job Offer, thank the sender and express interest. Ask about next steps.\n",
    "- If it's a Job Application Update, acknowledge the update and express continued interest.\n",
    "- If it's Personal, respond warmly and casually.\n",
    "\n",
    "Reply:\n",
    "\"\"\"\n",
    "    response = client.chat.completions.create(\n",
    "        model=\"openai/gpt-3.5-turbo\",\n",
    "        messages=[\n",
    "            {\"role\": \"system\", \"content\": \"You are a helpful email assistant.\"},\n",
    "            {\"role\": \"user\", \"content\": prompt}\n",
    "        ],\n",
    "        max_tokens=300,\n",
    "    )\n",
    "    return response.choices[0].message.content.strip()"
   ]
  },
  {
   "cell_type": "code",
   "execution_count": 9,
   "id": "f71c6e07",
   "metadata": {},
   "outputs": [],
   "source": [
    "# Save the reply as Gmail draft\n",
    "def create_draft(service, reply_to, subject, message_text):\n",
    "    message = MIMEText(message_text)\n",
    "    message['to'] = reply_to\n",
    "    message['subject'] = f\"Re: {subject}\"\n",
    "    raw = base64.urlsafe_b64encode(message.as_bytes()).decode()\n",
    "    draft_body = {'message': {'raw': raw}}\n",
    "\n",
    "    draft = service.users().drafts().create(userId=\"me\", body=draft_body).execute()\n",
    "    print(f\"📨 Draft created for: {subject}\")"
   ]
  },
  {
   "cell_type": "code",
   "execution_count": 10,
   "id": "5c57de39",
   "metadata": {},
   "outputs": [
    {
     "name": "stdout",
     "output_type": "stream",
     "text": [
      "🔍 I want to connect → Personal\n",
      "📨 Draft created for: I want to connect\n",
      "🔍 Catching Up Soon? 😊 → Personal\n",
      "📨 Draft created for: Catching Up Soon? 😊\n",
      "🔍 Offer Letter for AI/ML Engineer Position at Tata Consultancy Services → Job Offer\n",
      "📨 Draft created for: Offer Letter for AI/ML Engineer Position at Tata Consultancy Services\n",
      "🔍 Getting Started with OpenRouter → Newsletter\n",
      "⏭️ Skipping: Getting Started with OpenRouter (Newsletter)\n",
      "🔍 BAVYA SREE, review your Google Account settings → Other\n",
      "⏭️ Skipping: BAVYA SREE, review your Google Account settings (Other)\n",
      "🔍 Security alert → Other\n",
      "⏭️ Skipping: Security alert (Other)\n",
      "🔍 Jio just posted 10 jobs → Newsletter\n",
      "⏭️ Skipping: Jio just posted 10 jobs (Newsletter)\n",
      "🔍 Email reply assistant referral link → Other\n",
      "⏭️ Skipping: Email reply assistant referral link (Other)\n",
      "🔍 Infosys just posted 30+ jobs → Job Offer\n",
      "📨 Draft created for: Infosys just posted 30+ jobs\n",
      "🔍 Build Production-Ready LLMs From Scratch Starting on July 12th! → Newsletter\n",
      "⏭️ Skipping: Build Production-Ready LLMs From Scratch Starting on July 12th! (Newsletter)\n"
     ]
    }
   ],
   "source": [
    "# Main execution logic\n",
    "if __name__ == \"__main__\":\n",
    "    emails = fetch_recent_emails()\n",
    "\n",
    "    for email in emails:\n",
    "        category = classify_email(email)\n",
    "        print(f\"🔍 {email['subject']} → {category}\")\n",
    "        \n",
    "        if category in [\"Personal\", \"Job Offer\", \"Job Application Updates\"]:\n",
    "            reply = generate_reply(email, category)\n",
    "            create_draft(service, email[\"sender\"], email[\"subject\"], reply)\n",
    "        else:\n",
    "            print(f\"⏭️ Skipping: {email['subject']} ({category})\")"
   ]
  },
  {
   "cell_type": "code",
   "execution_count": null,
   "id": "5d6b7dee",
   "metadata": {},
   "outputs": [],
   "source": []
  }
 ],
 "metadata": {
  "kernelspec": {
   "display_name": "venv",
   "language": "python",
   "name": "python3"
  },
  "language_info": {
   "codemirror_mode": {
    "name": "ipython",
    "version": 3
   },
   "file_extension": ".py",
   "mimetype": "text/x-python",
   "name": "python",
   "nbconvert_exporter": "python",
   "pygments_lexer": "ipython3",
   "version": "3.11.3"
  }
 },
 "nbformat": 4,
 "nbformat_minor": 5
}
